


import pandas as pd 

df = pd.read_parquet("./extracted.parquet")
df.head()





import plotly.express as px
import matplotlib.pyplot as plt 
import seaborn as sns




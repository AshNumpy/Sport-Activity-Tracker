{
 "cells": [
  {
   "cell_type": "code",
   "execution_count": 12,
   "metadata": {},
   "outputs": [],
   "source": [
    "import pandas as pd\n",
    "\n",
    "df = pd.read_parquet(\"../../exported-files/agirlik_takibi.parquet\")"
   ]
  },
  {
   "cell_type": "code",
   "execution_count": 13,
   "metadata": {},
   "outputs": [
    {
     "data": {
      "text/html": [
       "<div>\n",
       "<style scoped>\n",
       "    .dataframe tbody tr th:only-of-type {\n",
       "        vertical-align: middle;\n",
       "    }\n",
       "\n",
       "    .dataframe tbody tr th {\n",
       "        vertical-align: top;\n",
       "    }\n",
       "\n",
       "    .dataframe thead th {\n",
       "        text-align: right;\n",
       "    }\n",
       "</style>\n",
       "<table border=\"1\" class=\"dataframe\">\n",
       "  <thead>\n",
       "    <tr style=\"text-align: right;\">\n",
       "      <th></th>\n",
       "      <th>created time</th>\n",
       "      <th>hareketin_ismi</th>\n",
       "      <th>max_agirlik</th>\n",
       "      <th>max_tekrar</th>\n",
       "      <th>summary</th>\n",
       "    </tr>\n",
       "  </thead>\n",
       "  <tbody>\n",
       "    <tr>\n",
       "      <th>0</th>\n",
       "      <td>2023-11-16 17:05:00+00:00</td>\n",
       "      <td>Dumbbell Row</td>\n",
       "      <td>45.0</td>\n",
       "      <td>10</td>\n",
       "      <td>45☠ | 10</td>\n",
       "    </tr>\n",
       "    <tr>\n",
       "      <th>1</th>\n",
       "      <td>2023-11-16 16:58:00+00:00</td>\n",
       "      <td>Plate Loaded Wide Grip Machine Row</td>\n",
       "      <td>100.0</td>\n",
       "      <td>6</td>\n",
       "      <td>100☠ | 6</td>\n",
       "    </tr>\n",
       "    <tr>\n",
       "      <th>2</th>\n",
       "      <td>2023-11-16 16:31:00+00:00</td>\n",
       "      <td>Over Head Press</td>\n",
       "      <td>70.0</td>\n",
       "      <td>5</td>\n",
       "      <td>70☠ | 5</td>\n",
       "    </tr>\n",
       "    <tr>\n",
       "      <th>3</th>\n",
       "      <td>2023-11-16 16:18:00+00:00</td>\n",
       "      <td>Machine Dips</td>\n",
       "      <td>10.0</td>\n",
       "      <td>8</td>\n",
       "      <td>10☠ | 8</td>\n",
       "    </tr>\n",
       "    <tr>\n",
       "      <th>4</th>\n",
       "      <td>2023-11-16 16:14:00+00:00</td>\n",
       "      <td>Incline Dumbbell Chest Press</td>\n",
       "      <td>60.0</td>\n",
       "      <td>6</td>\n",
       "      <td>60☠ | 6</td>\n",
       "    </tr>\n",
       "  </tbody>\n",
       "</table>\n",
       "</div>"
      ],
      "text/plain": [
       "               created time                      hareketin_ismi  max_agirlik  \\\n",
       "0 2023-11-16 17:05:00+00:00                        Dumbbell Row         45.0   \n",
       "1 2023-11-16 16:58:00+00:00  Plate Loaded Wide Grip Machine Row        100.0   \n",
       "2 2023-11-16 16:31:00+00:00                     Over Head Press         70.0   \n",
       "3 2023-11-16 16:18:00+00:00                        Machine Dips         10.0   \n",
       "4 2023-11-16 16:14:00+00:00        Incline Dumbbell Chest Press         60.0   \n",
       "\n",
       "   max_tekrar   summary  \n",
       "0          10  45☠ | 10  \n",
       "1           6  100☠ | 6  \n",
       "2           5   70☠ | 5  \n",
       "3           8   10☠ | 8  \n",
       "4           6   60☠ | 6  "
      ]
     },
     "execution_count": 13,
     "metadata": {},
     "output_type": "execute_result"
    }
   ],
   "source": [
    "df.head()"
   ]
  },
  {
   "cell_type": "code",
   "execution_count": 14,
   "metadata": {},
   "outputs": [
    {
     "name": "stdout",
     "output_type": "stream",
     "text": [
      "<class 'pandas.core.frame.DataFrame'>\n",
      "RangeIndex: 100 entries, 0 to 99\n",
      "Data columns (total 5 columns):\n",
      " #   Column          Non-Null Count  Dtype              \n",
      "---  ------          --------------  -----              \n",
      " 0   created time    100 non-null    datetime64[ns, UTC]\n",
      " 1   hareketin_ismi  100 non-null    object             \n",
      " 2   max_agirlik     100 non-null    float64            \n",
      " 3   max_tekrar      100 non-null    int64              \n",
      " 4   summary         100 non-null    object             \n",
      "dtypes: datetime64[ns, UTC](1), float64(1), int64(1), object(2)\n",
      "memory usage: 4.0+ KB\n"
     ]
    }
   ],
   "source": [
    "df.info()"
   ]
  },
  {
   "cell_type": "code",
   "execution_count": 15,
   "metadata": {},
   "outputs": [],
   "source": [
    "df['date'] = df['created time'].dt.date"
   ]
  },
  {
   "cell_type": "code",
   "execution_count": 16,
   "metadata": {},
   "outputs": [
    {
     "data": {
      "text/html": [
       "<div>\n",
       "<style scoped>\n",
       "    .dataframe tbody tr th:only-of-type {\n",
       "        vertical-align: middle;\n",
       "    }\n",
       "\n",
       "    .dataframe tbody tr th {\n",
       "        vertical-align: top;\n",
       "    }\n",
       "\n",
       "    .dataframe thead th {\n",
       "        text-align: right;\n",
       "    }\n",
       "</style>\n",
       "<table border=\"1\" class=\"dataframe\">\n",
       "  <thead>\n",
       "    <tr style=\"text-align: right;\">\n",
       "      <th></th>\n",
       "      <th>created time</th>\n",
       "      <th>hareketin_ismi</th>\n",
       "      <th>max_agirlik</th>\n",
       "      <th>max_tekrar</th>\n",
       "      <th>summary</th>\n",
       "      <th>date</th>\n",
       "    </tr>\n",
       "  </thead>\n",
       "  <tbody>\n",
       "    <tr>\n",
       "      <th>0</th>\n",
       "      <td>2023-11-16 17:05:00+00:00</td>\n",
       "      <td>Dumbbell Row</td>\n",
       "      <td>45.0</td>\n",
       "      <td>10</td>\n",
       "      <td>45☠ | 10</td>\n",
       "      <td>2023-11-16</td>\n",
       "    </tr>\n",
       "    <tr>\n",
       "      <th>1</th>\n",
       "      <td>2023-11-16 16:58:00+00:00</td>\n",
       "      <td>Plate Loaded Wide Grip Machine Row</td>\n",
       "      <td>100.0</td>\n",
       "      <td>6</td>\n",
       "      <td>100☠ | 6</td>\n",
       "      <td>2023-11-16</td>\n",
       "    </tr>\n",
       "  </tbody>\n",
       "</table>\n",
       "</div>"
      ],
      "text/plain": [
       "               created time                      hareketin_ismi  max_agirlik  \\\n",
       "0 2023-11-16 17:05:00+00:00                        Dumbbell Row         45.0   \n",
       "1 2023-11-16 16:58:00+00:00  Plate Loaded Wide Grip Machine Row        100.0   \n",
       "\n",
       "   max_tekrar   summary        date  \n",
       "0          10  45☠ | 10  2023-11-16  \n",
       "1           6  100☠ | 6  2023-11-16  "
      ]
     },
     "execution_count": 16,
     "metadata": {},
     "output_type": "execute_result"
    }
   ],
   "source": [
    "df.head(2)"
   ]
  },
  {
   "cell_type": "code",
   "execution_count": 17,
   "metadata": {},
   "outputs": [],
   "source": [
    "df['score'] = df['max_agirlik'] * df['max_tekrar']"
   ]
  },
  {
   "cell_type": "code",
   "execution_count": 18,
   "metadata": {},
   "outputs": [
    {
     "data": {
      "text/html": [
       "<div>\n",
       "<style scoped>\n",
       "    .dataframe tbody tr th:only-of-type {\n",
       "        vertical-align: middle;\n",
       "    }\n",
       "\n",
       "    .dataframe tbody tr th {\n",
       "        vertical-align: top;\n",
       "    }\n",
       "\n",
       "    .dataframe thead th {\n",
       "        text-align: right;\n",
       "    }\n",
       "</style>\n",
       "<table border=\"1\" class=\"dataframe\">\n",
       "  <thead>\n",
       "    <tr style=\"text-align: right;\">\n",
       "      <th></th>\n",
       "      <th>created time</th>\n",
       "      <th>hareketin_ismi</th>\n",
       "      <th>max_agirlik</th>\n",
       "      <th>max_tekrar</th>\n",
       "      <th>summary</th>\n",
       "      <th>date</th>\n",
       "      <th>score</th>\n",
       "    </tr>\n",
       "  </thead>\n",
       "  <tbody>\n",
       "    <tr>\n",
       "      <th>0</th>\n",
       "      <td>2023-11-16 17:05:00+00:00</td>\n",
       "      <td>Dumbbell Row</td>\n",
       "      <td>45.0</td>\n",
       "      <td>10</td>\n",
       "      <td>45☠ | 10</td>\n",
       "      <td>2023-11-16</td>\n",
       "      <td>450.0</td>\n",
       "    </tr>\n",
       "    <tr>\n",
       "      <th>1</th>\n",
       "      <td>2023-11-16 16:58:00+00:00</td>\n",
       "      <td>Plate Loaded Wide Grip Machine Row</td>\n",
       "      <td>100.0</td>\n",
       "      <td>6</td>\n",
       "      <td>100☠ | 6</td>\n",
       "      <td>2023-11-16</td>\n",
       "      <td>600.0</td>\n",
       "    </tr>\n",
       "  </tbody>\n",
       "</table>\n",
       "</div>"
      ],
      "text/plain": [
       "               created time                      hareketin_ismi  max_agirlik  \\\n",
       "0 2023-11-16 17:05:00+00:00                        Dumbbell Row         45.0   \n",
       "1 2023-11-16 16:58:00+00:00  Plate Loaded Wide Grip Machine Row        100.0   \n",
       "\n",
       "   max_tekrar   summary        date  score  \n",
       "0          10  45☠ | 10  2023-11-16  450.0  \n",
       "1           6  100☠ | 6  2023-11-16  600.0  "
      ]
     },
     "execution_count": 18,
     "metadata": {},
     "output_type": "execute_result"
    }
   ],
   "source": [
    "df.head(2)"
   ]
  },
  {
   "cell_type": "code",
   "execution_count": 19,
   "metadata": {},
   "outputs": [],
   "source": [
    "temp = df[['date', 'max_agirlik', 'max_tekrar', 'score']]"
   ]
  },
  {
   "cell_type": "code",
   "execution_count": 20,
   "metadata": {},
   "outputs": [
    {
     "data": {
      "text/html": [
       "<div>\n",
       "<style scoped>\n",
       "    .dataframe tbody tr th:only-of-type {\n",
       "        vertical-align: middle;\n",
       "    }\n",
       "\n",
       "    .dataframe tbody tr th {\n",
       "        vertical-align: top;\n",
       "    }\n",
       "\n",
       "    .dataframe thead th {\n",
       "        text-align: right;\n",
       "    }\n",
       "</style>\n",
       "<table border=\"1\" class=\"dataframe\">\n",
       "  <thead>\n",
       "    <tr style=\"text-align: right;\">\n",
       "      <th></th>\n",
       "      <th>date</th>\n",
       "      <th>max_agirlik</th>\n",
       "      <th>max_tekrar</th>\n",
       "      <th>score</th>\n",
       "    </tr>\n",
       "  </thead>\n",
       "  <tbody>\n",
       "    <tr>\n",
       "      <th>0</th>\n",
       "      <td>2023-11-16</td>\n",
       "      <td>45.0</td>\n",
       "      <td>10</td>\n",
       "      <td>450.0</td>\n",
       "    </tr>\n",
       "    <tr>\n",
       "      <th>1</th>\n",
       "      <td>2023-11-16</td>\n",
       "      <td>100.0</td>\n",
       "      <td>6</td>\n",
       "      <td>600.0</td>\n",
       "    </tr>\n",
       "  </tbody>\n",
       "</table>\n",
       "</div>"
      ],
      "text/plain": [
       "         date  max_agirlik  max_tekrar  score\n",
       "0  2023-11-16         45.0          10  450.0\n",
       "1  2023-11-16        100.0           6  600.0"
      ]
     },
     "execution_count": 20,
     "metadata": {},
     "output_type": "execute_result"
    }
   ],
   "source": [
    "temp.head(2)"
   ]
  },
  {
   "cell_type": "code",
   "execution_count": 21,
   "metadata": {},
   "outputs": [],
   "source": [
    "def extractor(df):\n",
    "    temp = df.copy()\n",
    "    temp['created time'] = pd.to_datetime(temp['created time'])\n",
    "\n",
    "    temp['date'] = temp['created time'].dt.strftime('%d-%m-%Y')\n",
    "    temp['score'] = temp['max_agirlik'] * temp['max_tekrar']\n",
    "\n",
    "    temp = temp[['date', 'max_agirlik', 'max_tekrar', 'score', 'hareketin_ismi']]\n",
    "\n",
    "    return temp"
   ]
  },
  {
   "cell_type": "code",
   "execution_count": 22,
   "metadata": {},
   "outputs": [],
   "source": [
    "extractor(df).to_parquet(\"extracted.parquet\", index=True)"
   ]
  }
 ],
 "metadata": {
  "kernelspec": {
   "display_name": ".venv",
   "language": "python",
   "name": "python3"
  },
  "language_info": {
   "codemirror_mode": {
    "name": "ipython",
    "version": 3
   },
   "file_extension": ".py",
   "mimetype": "text/x-python",
   "name": "python",
   "nbconvert_exporter": "python",
   "pygments_lexer": "ipython3",
   "version": "3.11.6"
  }
 },
 "nbformat": 4,
 "nbformat_minor": 5
}
